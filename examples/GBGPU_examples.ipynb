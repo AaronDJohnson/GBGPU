{
 "cells": [
  {
   "cell_type": "code",
   "execution_count": 1,
   "metadata": {},
   "outputs": [],
   "source": [
    "import numpy as np\n",
    "import time\n",
    "\n",
    "import matplotlib.pyplot as plt\n",
    "%matplotlib inline\n",
    "\n",
    "import unittest\n",
    "\n",
    "from gbgpu.gbgpu import GBGPU\n",
    "\n",
    "from gbgpu.utils.constants import *\n",
    "\n",
    "import tdi"
   ]
  },
  {
   "cell_type": "markdown",
   "metadata": {},
   "source": [
    "## Setup all the parameters and arrays to be used in these examples"
   ]
  },
  {
   "cell_type": "code",
   "execution_count": 2,
   "metadata": {},
   "outputs": [],
   "source": [
    "dt = 15.0\n",
    "Tobs = 4.0 * YEAR\n",
    "gb = GBGPU()\n",
    "\n",
    "# number of points\n",
    "N = int(1024)\n",
    "\n",
    "# number of binaries to batch\n",
    "num_bin = 10\n",
    "\n",
    "# parameters\n",
    "amp = 2e-19  # amplitude\n",
    "f0 = 2e-3  # f0\n",
    "fdot = 1e-14  # fdot\n",
    "fddot = 0.0 ## not included (place holder for future?)\n",
    "phi0 = 0.1  # initial phase\n",
    "iota = 0.2  # inclination\n",
    "psi = 0.3  # polarization angle\n",
    "lam = 0.4  # ecliptic longitude\n",
    "beta_sky = 0.5  # ecliptic latitude\n",
    "e1 = 0.2  # eccentricity of inner binary\n",
    "beta1 = 0.5  # TODO: fill in\n",
    "A2 = 18.0  # third body amplitude parameter\n",
    "omegabar = 0.0  # omegabar parameter\n",
    "e2 = 0.3  # eccentricity of third body\n",
    "P2 = 0.6  # period of third body\n",
    "T2 = 0.0  # time of periapsis passage of third body\n",
    "\n",
    "# for batching\n",
    "amp_in = np.full(num_bin, amp)\n",
    "f0_in = np.full(num_bin, f0)\n",
    "fdot_in = np.full(num_bin, fdot)\n",
    "fddot_in = np.full(num_bin, fddot)\n",
    "phi0_in = np.full(num_bin, phi0)\n",
    "iota_in = np.full(num_bin, iota)\n",
    "psi_in = np.full(num_bin, psi)\n",
    "lam_in = np.full(num_bin, lam)\n",
    "beta_sky_in = np.full(num_bin, beta_sky)\n",
    "e1_in = np.full(num_bin, e1)\n",
    "beta1_in = np.full(num_bin, beta1)\n",
    "A2_in = np.full(num_bin, A2)\n",
    "P2_in = np.full(num_bin, P2)\n",
    "omegabar_in = np.full(num_bin, omegabar)\n",
    "e2_in = np.full(num_bin, e2)\n",
    "T2_in = np.full(num_bin, T2)\n",
    "\n",
    "length = int(Tobs / dt)\n",
    "\n",
    "# prepare fake data for likelihood calculation\n",
    "freqs = np.fft.rfftfreq(length, dt)\n",
    "data_stream_length = len(freqs)\n",
    "\n",
    "data = [\n",
    "    1e-24 * np.ones(data_stream_length, dtype=np.complex128),\n",
    "    1e-24 * np.ones(data_stream_length, dtype=np.complex128),\n",
    "]\n",
    "\n",
    "noise_factor = [\n",
    "    np.ones(data_stream_length, dtype=np.float64),\n",
    "    np.ones(data_stream_length, dtype=np.float64),\n",
    "]\n"
   ]
  },
  {
   "cell_type": "markdown",
   "metadata": {},
   "source": [
    "## Circular Galactic Binary"
   ]
  },
  {
   "cell_type": "code",
   "execution_count": 3,
   "metadata": {},
   "outputs": [
    {
     "name": "stdout",
     "output_type": "stream",
     "text": [
      "snr: 48.043692824525195\n"
     ]
    }
   ],
   "source": [
    "params_circ = np.array(\n",
    "    [amp_in, f0_in, fdot_in, fddot_in, phi0_in, iota_in, psi_in, lam_in, beta_sky_in,]\n",
    ")\n",
    "\n",
    "gb.run_wave(*params_circ, N=N, dt=dt, modes=np.array([2]), T=Tobs)\n",
    "\n",
    "A = gb.A[0][0]\n",
    "freqs = gb.freqs[0][0]\n",
    "\n",
    "df = 1/Tobs\n",
    "\n",
    "snr = np.sqrt(4 * df * np.sum(A.conj() * A/tdi.noisepsd_AE(freqs)).real)\n",
    "\n",
    "print('snr:', snr)"
   ]
  },
  {
   "cell_type": "code",
   "execution_count": 4,
   "metadata": {},
   "outputs": [
    {
     "name": "stdout",
     "output_type": "stream",
     "text": [
      "circ: 0.004381067860000001 per binary: 0.00043810678600000007\n"
     ]
    }
   ],
   "source": [
    "params_circ = np.array(\n",
    "    [amp_in, f0_in, fdot_in, fddot_in, phi0_in, iota_in, psi_in, lam_in, beta_sky_in,]\n",
    ")\n",
    "\n",
    "num = 100\n",
    "\n",
    "A_inj, E_inj = gb.inject_signal(\n",
    "    amp,\n",
    "    f0,\n",
    "    fdot,\n",
    "    fddot,\n",
    "    phi0,\n",
    "    iota,\n",
    "    psi,\n",
    "    lam,\n",
    "    beta_sky,\n",
    "    modes=np.array([2]),\n",
    "    N=N,\n",
    "    dt=dt,\n",
    "    T=Tobs,\n",
    ")\n",
    "\n",
    "st = time.perf_counter()\n",
    "for _ in range(num):\n",
    "    like = gb.get_ll(\n",
    "        params_circ, data, noise_factor, N=N, dt=dt, modes=np.array([2]), T=Tobs,\n",
    "    )\n",
    "et = time.perf_counter()\n",
    "print(\"circ:\", (et - st) / num, \"per binary:\", (et - st) / (num * num_bin))\n"
   ]
  },
  {
   "cell_type": "code",
   "execution_count": 5,
   "metadata": {},
   "outputs": [
    {
     "data": {
      "text/plain": [
       "[<matplotlib.lines.Line2D at 0x7fb6244c3e80>]"
      ]
     },
     "execution_count": 5,
     "metadata": {},
     "output_type": "execute_result"
    },
    {
     "data": {
      "image/png": "[encoded data removed]",
      "text/plain": [
       "<Figure size 432x288 with 1 Axes>"
      ]
     },
     "metadata": {
      "needs_background": "light"
     },
     "output_type": "display_data"
    }
   ],
   "source": [
    "plt.plot(gb.freqs[0][0], np.abs(gb.A[0][0]))"
   ]
  },
  {
   "cell_type": "code",
   "execution_count": 6,
   "metadata": {},
   "outputs": [
    {
     "name": "stdout",
     "output_type": "stream",
     "text": [
      "ecc (4 modes): 0.040176912589999995 per binary: 0.004017691259\n"
     ]
    }
   ],
   "source": [
    "\n",
    "params_ecc = np.array(\n",
    "    [\n",
    "        amp_in,\n",
    "        f0_in,\n",
    "        fdot_in,\n",
    "        fddot_in,\n",
    "        phi0_in,\n",
    "        iota_in,\n",
    "        psi_in,\n",
    "        lam_in,\n",
    "        beta_sky_in,\n",
    "        e1_in,\n",
    "        beta1_in,\n",
    "    ]\n",
    ")\n",
    "\n",
    "modes = np.array([1, 2, 3, 4])\n",
    "A_inj, E_inj = gb.inject_signal(\n",
    "    amp,\n",
    "    f0,\n",
    "    fdot,\n",
    "    fddot,\n",
    "    phi0,\n",
    "    iota,\n",
    "    psi,\n",
    "    lam,\n",
    "    beta_sky,\n",
    "    e1,\n",
    "    beta1,\n",
    "    modes=modes,\n",
    "    N=N,\n",
    "    dt=dt,\n",
    "    T=Tobs,\n",
    ")\n",
    "\n",
    "st = time.perf_counter()\n",
    "for _ in range(num):\n",
    "    like = gb.get_ll(params_ecc, [A_inj, E_inj], noise_factor, N=N, dt=dt, modes=modes, T=Tobs,)\n",
    "et = time.perf_counter()\n",
    "print(\n",
    "    \"ecc ({} modes):\".format(len(modes)),\n",
    "    (et - st) / num,\n",
    "    \"per binary:\",\n",
    "    (et - st) / (num * num_bin),\n",
    ")\n"
   ]
  },
  {
   "cell_type": "code",
   "execution_count": 7,
   "metadata": {},
   "outputs": [
    {
     "data": {
      "image/png": "[encoded data removed]",
      "text/plain": [
       "<Figure size 432x288 with 1 Axes>"
      ]
     },
     "metadata": {
      "needs_background": "light"
     },
     "output_type": "display_data"
    }
   ],
   "source": [
    "for i in range(len(modes)):\n",
    "    plt.plot(gb.freqs[i][0], np.abs(gb.A[i][0]))"
   ]
  },
  {
   "cell_type": "code",
   "execution_count": 8,
   "metadata": {},
   "outputs": [
    {
     "data": {
      "text/plain": [
       "[<matplotlib.lines.Line2D at 0x7fb5ea72f9d0>]"
      ]
     },
     "execution_count": 8,
     "metadata": {},
     "output_type": "execute_result"
    },
    {
     "data": {
      "image/png": "[encoded data removed]",
      "text/plain": [
       "<Figure size 432x288 with 1 Axes>"
      ]
     },
     "metadata": {
      "needs_background": "light"
     },
     "output_type": "display_data"
    }
   ],
   "source": [
    "# zoom in on j = 3 mode\n",
    "plt.plot(gb.freqs[2][0], np.abs(gb.A[2][0]))"
   ]
  },
  {
   "cell_type": "code",
   "execution_count": 9,
   "metadata": {},
   "outputs": [
    {
     "name": "stdout",
     "output_type": "stream",
     "text": [
      "circ / third: 0.014745362300000009 per binary: 0.0014745362300000008\n"
     ]
    }
   ],
   "source": [
    "params_circ_third = np.array(\n",
    "    [\n",
    "        amp_in,\n",
    "        f0_in,\n",
    "        fdot_in,\n",
    "        fddot_in,\n",
    "        phi0_in,\n",
    "        iota_in,\n",
    "        psi_in,\n",
    "        lam_in,\n",
    "        beta_sky_in,\n",
    "        A2_in,\n",
    "        omegabar_in,\n",
    "        e2_in,\n",
    "        P2_in,\n",
    "        T2_in,\n",
    "    ]\n",
    ")\n",
    "\n",
    "A_inj, E_inj = gb.inject_signal(\n",
    "    amp,\n",
    "    f0,\n",
    "    fdot,\n",
    "    fddot,\n",
    "    phi0,\n",
    "    iota,\n",
    "    psi,\n",
    "    lam,\n",
    "    beta_sky,\n",
    "    A2,\n",
    "    omegabar,\n",
    "    e2,\n",
    "    P2,\n",
    "    T2,\n",
    "    modes=np.array([2]),\n",
    "    N=N,\n",
    "    dt=dt,\n",
    "    T=Tobs,\n",
    ")\n",
    "\n",
    "st = time.perf_counter()\n",
    "for _ in range(num):\n",
    "    like = gb.get_ll(\n",
    "        params_circ_third, [A_inj, E_inj], noise_factor, N=N, dt=dt, modes=np.array([2]), T=Tobs,\n",
    "    )\n",
    "et = time.perf_counter()\n",
    "print(\"circ / third:\", (et - st) / num, \"per binary:\", (et - st) / (num * num_bin))\n"
   ]
  },
  {
   "cell_type": "code",
   "execution_count": 10,
   "metadata": {},
   "outputs": [
    {
     "data": {
      "text/plain": [
       "[<matplotlib.lines.Line2D at 0x7fb5ea6c54f0>]"
      ]
     },
     "execution_count": 10,
     "metadata": {},
     "output_type": "execute_result"
    },
    {
     "data": {
      "image/png": "[encoded data removed]",
      "text/plain": [
       "<Figure size 432x288 with 1 Axes>"
      ]
     },
     "metadata": {
      "needs_background": "light"
     },
     "output_type": "display_data"
    }
   ],
   "source": [
    "plt.plot(gb.freqs[0][0], np.abs(gb.A[0][0]))"
   ]
  },
  {
   "cell_type": "code",
   "execution_count": 11,
   "metadata": {},
   "outputs": [
    {
     "name": "stdout",
     "output_type": "stream",
     "text": [
      "ecc/third (4 modes): 0.11491968520000002 per binary: 0.011491968520000001\n"
     ]
    }
   ],
   "source": [
    "params_full = np.array(\n",
    "    [\n",
    "        amp_in,\n",
    "        f0_in,\n",
    "        fdot_in,\n",
    "        fddot_in,\n",
    "        phi0_in,\n",
    "        iota_in,\n",
    "        psi_in,\n",
    "        lam_in,\n",
    "        beta_sky_in,\n",
    "        e1_in,\n",
    "        beta1_in,\n",
    "        A2_in,\n",
    "        omegabar_in,\n",
    "        e2_in,\n",
    "        P2_in,\n",
    "        T2_in,\n",
    "    ]\n",
    ")\n",
    "\n",
    "modes = np.array([1, 2, 3, 4])\n",
    "A_inj, E_inj = gb.inject_signal(\n",
    "    amp,\n",
    "    f0,\n",
    "    fdot,\n",
    "    fddot,\n",
    "    phi0,\n",
    "    iota,\n",
    "    psi,\n",
    "    lam,\n",
    "    beta_sky,\n",
    "    e1,\n",
    "    beta1,\n",
    "    A2,\n",
    "    omegabar,\n",
    "    e2,\n",
    "    P2,\n",
    "    T2,\n",
    "    modes=modes,\n",
    "    N=N,\n",
    "    dt=dt,\n",
    "    T=Tobs,\n",
    ")\n",
    "\n",
    "st = time.perf_counter()\n",
    "for _ in range(num):\n",
    "    like = gb.get_ll(params_full, [A_inj, E_inj], noise_factor, N=N, dt=dt, modes=modes, T=Tobs,)\n",
    "et = time.perf_counter()\n",
    "print(\n",
    "    \"ecc/third ({} modes):\".format(len(modes)),\n",
    "    (et - st) / num,\n",
    "    \"per binary:\",\n",
    "    (et - st) / (num * num_bin),\n",
    ")\n"
   ]
  },
  {
   "cell_type": "code",
   "execution_count": 12,
   "metadata": {},
   "outputs": [
    {
     "data": {
      "image/png": "[encoded data removed]",
      "text/plain": [
       "<Figure size 432x288 with 1 Axes>"
      ]
     },
     "metadata": {
      "needs_background": "light"
     },
     "output_type": "display_data"
    }
   ],
   "source": [
    "for i in range(len(modes)):\n",
    "    plt.plot(gb.freqs[i][0], np.abs(gb.A[i][0]))"
   ]
  },
  {
   "cell_type": "code",
   "execution_count": 13,
   "metadata": {},
   "outputs": [],
   "source": [
    "df = 1/(Tobs) \n",
    "fmax = 1e-2\n",
    "noise_freqs = np.arange(0.0, fmax, df)[1:]\n",
    "\n",
    "AE_noise = tdi.noisepsd_AE(noise_freqs)\n",
    "\n",
    "noise_factor = [1/np.sqrt(AE_noise) * np.sqrt(df), 1/np.sqrt(AE_noise) * np.sqrt(df)]"
   ]
  },
  {
   "cell_type": "code",
   "execution_count": 14,
   "metadata": {},
   "outputs": [
    {
     "data": {
      "image/png": "[encoded data removed]",
      "text/plain": [
       "<Figure size 432x288 with 1 Axes>"
      ]
     },
     "metadata": {
      "needs_background": "light"
     },
     "output_type": "display_data"
    }
   ],
   "source": [
    "plt.loglog(noise_freqs, np.sqrt(AE_noise))\n",
    "for i in range(len(modes)):\n",
    "    plt.plot(gb.freqs[i][0], np.abs(gb.A[i][0]))"
   ]
  },
  {
   "cell_type": "code",
   "execution_count": 15,
   "metadata": {},
   "outputs": [
    {
     "name": "stdout",
     "output_type": "stream",
     "text": [
      "ecc template log likelihood: [-4.83291641e-09 -4.83291641e-09 -4.83291641e-09 -4.83291641e-09\n",
      " -4.83291641e-09 -4.83291641e-09 -4.83291641e-09 -4.83291641e-09\n",
      " -4.83291641e-09 -4.83291641e-09]\n",
      "circ template log likelihood: [-16655.82888649 -16655.82888649 -16655.82888649 -16655.82888649\n",
      " -16655.82888649 -16655.82888649 -16655.82888649 -16655.82888649\n",
      " -16655.82888649 -16655.82888649]\n"
     ]
    }
   ],
   "source": [
    "# inject eccentric signal\n",
    "\n",
    "params_ecc = np.array(\n",
    "    [\n",
    "        amp_in,\n",
    "        f0_in,\n",
    "        fdot_in,\n",
    "        fddot_in,\n",
    "        phi0_in,\n",
    "        iota_in,\n",
    "        psi_in,\n",
    "        lam_in,\n",
    "        beta_sky_in,\n",
    "        e1_in,\n",
    "        beta1_in,\n",
    "    ]\n",
    ")\n",
    "\n",
    "modes = np.array([1, 2, 3, 4])\n",
    "A_inj, E_inj = gb.inject_signal(\n",
    "    amp,\n",
    "    f0,\n",
    "    fdot,\n",
    "    fddot,\n",
    "    phi0,\n",
    "    iota,\n",
    "    psi,\n",
    "    lam,\n",
    "    beta_sky,\n",
    "    e1,\n",
    "    beta1,\n",
    "    modes=modes,\n",
    "    N=N,\n",
    "    dt=dt,\n",
    "    T=Tobs,\n",
    ")\n",
    "\n",
    "A_inj = A_inj[1:len(AE_noise) + 1] / np.sqrt(AE_noise) * np.sqrt(df)\n",
    "E_inj = E_inj[1:len(AE_noise) + 1] / np.sqrt(AE_noise) * np.sqrt(df)\n",
    "\n",
    "data = [A_inj[1:], E_inj[1:]]  # right summation rule\n",
    "\n",
    "# try to extract with ecc\n",
    "\n",
    "like = gb.get_ll(\n",
    "    params_ecc, data, noise_factor, N=N, dt=dt, modes=np.array([2]), T=Tobs,\n",
    ")\n",
    "\n",
    "print('ecc template log likelihood:', like)\n",
    "\n",
    "# try to extract with circular\n",
    "\n",
    "params_circ = np.array(\n",
    "    [amp_in, f0_in, fdot_in, fddot_in, phi0_in, iota_in, psi_in, lam_in, beta_sky_in,]\n",
    ")\n",
    "\n",
    "like = gb.get_ll(\n",
    "    params_circ, data, noise_factor, N=N, dt=dt, modes=np.array([2]), T=Tobs,\n",
    ")\n",
    "\n",
    "print('circ template log likelihood:', like)"
   ]
  },
  {
   "cell_type": "code",
   "execution_count": 16,
   "metadata": {},
   "outputs": [
    {
     "name": "stdout",
     "output_type": "stream",
     "text": [
      "circular third body template likelihood: [-1.43928694e-09 -1.43928694e-09 -1.43928694e-09 -1.43928694e-09\n",
      " -1.43928694e-09 -1.43928694e-09 -1.43928694e-09 -1.43928694e-09\n",
      " -1.43928694e-09 -1.43928694e-09]\n",
      "circ template likelihood: [-0.01775862 -0.01775862 -0.01775862 -0.01775862 -0.01775862 -0.01775862\n",
      " -0.01775862 -0.01775862 -0.01775862 -0.01775862]\n"
     ]
    }
   ],
   "source": [
    "# inject circular with eccentric third body\n",
    "\n",
    "A_inj, E_inj = gb.inject_signal(\n",
    "    amp,\n",
    "    f0,\n",
    "    fdot,\n",
    "    fddot,\n",
    "    phi0,\n",
    "    iota,\n",
    "    psi,\n",
    "    lam,\n",
    "    beta_sky,\n",
    "    A2,\n",
    "    omegabar,\n",
    "    e2, \n",
    "    P2, \n",
    "    T2,\n",
    "    modes=modes,\n",
    "    N=N,\n",
    "    dt=dt,\n",
    "    T=Tobs,\n",
    ")\n",
    "\n",
    "A_inj = A_inj[1:len(AE_noise) + 1] / np.sqrt(AE_noise) * np.sqrt(df)\n",
    "E_inj = E_inj[1:len(AE_noise) + 1] / np.sqrt(AE_noise) * np.sqrt(df)\n",
    "\n",
    "data = [A_inj[1:], E_inj[1:]]  # right summation rule\n",
    "\n",
    "# try to extract with circular third body\n",
    "\n",
    "like = gb.get_ll(\n",
    "    params_circ_third, data, noise_factor, N=N, dt=dt, modes=np.array([2]), T=Tobs,\n",
    ")\n",
    "\n",
    "A_third = gb.A[0][0].copy()\n",
    "freqs_third = gb.freqs[0][0].copy()\n",
    "\n",
    "print('circular third body template likelihood:', like)\n",
    "\n",
    "# try to extract with circular\n",
    "\n",
    "params_circ = np.array(\n",
    "    [amp_in, f0_in, fdot_in, fddot_in, phi0_in, iota_in, psi_in, lam_in, beta_sky_in,]\n",
    ")\n",
    "\n",
    "like = gb.get_ll(\n",
    "    params_circ, data, noise_factor, N=N, dt=dt, modes=np.array([2]), T=Tobs,\n",
    ")\n",
    "\n",
    "A_circ = gb.A[0][0].copy()\n",
    "\n",
    "freqs_circ = gb.freqs[0][0].copy()\n",
    "\n",
    "print('circ template likelihood:', like)"
   ]
  },
  {
   "cell_type": "code",
   "execution_count": 17,
   "metadata": {},
   "outputs": [],
   "source": [
    "snr = np.sqrt(4 * df * np.sum(A_third.conj() * A_circ/tdi.noisepsd_AE(freqs)).real)"
   ]
  },
  {
   "cell_type": "code",
   "execution_count": 18,
   "metadata": {},
   "outputs": [],
   "source": [
    "snr2 = np.sqrt(4 * df * np.sum(A_third.conj() * A_third/tdi.noisepsd_AE(freqs)).real)"
   ]
  },
  {
   "cell_type": "code",
   "execution_count": 19,
   "metadata": {},
   "outputs": [
    {
     "data": {
      "text/plain": [
       "(48.04360031803253, 48.04369288468867)"
      ]
     },
     "execution_count": 19,
     "metadata": {},
     "output_type": "execute_result"
    }
   ],
   "source": [
    "snr, snr2"
   ]
  }
 ],
 "metadata": {
  "kernelspec": {
   "display_name": "Python 3",
   "language": "python",
   "name": "python3"
  },
  "language_info": {
   "codemirror_mode": {
    "name": "ipython",
    "version": 3
   },
   "file_extension": ".py",
   "mimetype": "text/x-python",
   "name": "python",
   "nbconvert_exporter": "python",
   "pygments_lexer": "ipython3",
   "version": "3.8.6"
  }
 },
 "nbformat": 4,
 "nbformat_minor": 4
}
